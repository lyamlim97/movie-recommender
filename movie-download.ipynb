{
 "cells": [
  {
   "cell_type": "code",
   "execution_count": 1,
   "metadata": {},
   "outputs": [],
   "source": [
    "# imports\n",
    "import urllib\n",
    "from zipfile import ZipFile\n",
    "import pandas as pd\n",
    "import json\n",
    "import os\n",
    "from tqdm.auto import tqdm\n"
   ]
  },
  {
   "cell_type": "code",
   "execution_count": 2,
   "metadata": {},
   "outputs": [],
   "source": [
    "# function to download the data in csv format\n",
    "def download_data(link, folder):\n",
    "    zip_file_name = link.rsplit('/', 1)[-1]\n",
    "    zip_full_path = folder + '/' + zip_file_name\n",
    "    urllib.request.urlretrieve(link, filename=zip_full_path)\n",
    "\n",
    "    with ZipFile(zip_full_path, 'r') as z_object:\n",
    "        z_object.extractall(path=folder + '/')\n"
   ]
  },
  {
   "cell_type": "code",
   "execution_count": 3,
   "metadata": {},
   "outputs": [],
   "source": [
    "link = 'https://files.grouplens.org/datasets/movielens/ml-25m.zip'\n",
    "folder = 'data'\n",
    "download_data(link, folder)\n"
   ]
  },
  {
   "cell_type": "code",
   "execution_count": 4,
   "metadata": {},
   "outputs": [],
   "source": [
    "def read_secrets() -> dict:\n",
    "    filename = os.path.join('secrets.json')\n",
    "    try:\n",
    "        with open(filename, mode='r') as f:\n",
    "            return json.loads(f.read())\n",
    "    except FileNotFoundError:\n",
    "        return {}\n"
   ]
  },
  {
   "cell_type": "code",
   "execution_count": 5,
   "metadata": {},
   "outputs": [],
   "source": [
    "secrets = read_secrets()\n"
   ]
  },
  {
   "cell_type": "code",
   "execution_count": 6,
   "metadata": {},
   "outputs": [],
   "source": [
    "df_movies = pd.read_csv('data/ml-25m/movies.csv')\n"
   ]
  },
  {
   "cell_type": "code",
   "execution_count": 7,
   "metadata": {},
   "outputs": [],
   "source": [
    "movie_id_list = df_movies['movieId'].to_list()\n"
   ]
  },
  {
   "cell_type": "code",
   "execution_count": 8,
   "metadata": {},
   "outputs": [],
   "source": [
    "# function to generate the link to download metadata json file\n",
    "def generate_metadata_link(movie_id, api_key):\n",
    "    link = 'https://api.themoviedb.org/3/movie/{movie_id}?api_key={api_key}'.format(\n",
    "        movie_id=movie_id, api_key=secrets['api_key'])\n",
    "    return link\n"
   ]
  },
  {
   "cell_type": "code",
   "execution_count": 9,
   "metadata": {},
   "outputs": [],
   "source": [
    "# function to generate file path to write the downloaded json file to\n",
    "def generate_write_file_path(movie_id, folder):\n",
    "    file_path = folder + '/' + str(movie_id) + '.json'\n",
    "    return file_path\n",
    "    "
   ]
  },
  {
   "cell_type": "code",
   "execution_count": 10,
   "metadata": {},
   "outputs": [
    {
     "data": {
      "application/vnd.jupyter.widget-view+json": {
       "model_id": "8ada2af53d1a4e1089185efbdf7d364b",
       "version_major": 2,
       "version_minor": 0
      },
      "text/plain": [
       "  0%|          | 0/62423 [00:00<?, ?it/s]"
      ]
     },
     "metadata": {},
     "output_type": "display_data"
    }
   ],
   "source": [
    "# download metadata from TMD for each movie in movies.csv\n",
    "folder_name = 'data/TMD-api/movies'\n",
    "movies_api_success_list = []\n",
    "for movie_id in tqdm(movie_id_list):\n",
    "    link = generate_metadata_link(movie_id, secrets['api_key'])\n",
    "    file_path = generate_write_file_path(movie_id, folder_name)\n",
    "\n",
    "    if not os.path.isfile(file_path):\n",
    "        # file does not exist\n",
    "        try:\n",
    "            urllib.request.urlretrieve(link, filename=file_path)\n",
    "            movies_api_success_list.append(1)\n",
    "        except:\n",
    "            movies_api_success_list.append(0)\n",
    "    else:\n",
    "        # file exists\n",
    "        movies_api_success_list.append(1)\n"
   ]
  },
  {
   "cell_type": "code",
   "execution_count": 11,
   "metadata": {},
   "outputs": [],
   "source": [
    "df_movies_api_download = pd.DataFrame(\n",
    "    {'movie_id': movie_id_list, 'api_success': movies_api_success_list})\n"
   ]
  },
  {
   "cell_type": "code",
   "execution_count": 12,
   "metadata": {},
   "outputs": [],
   "source": [
    "df_movies_api_download.to_csv(\n",
    "    'data/TMD-api/movies-api-download-success.csv', index=False)\n"
   ]
  },
  {
   "cell_type": "code",
   "execution_count": 13,
   "metadata": {},
   "outputs": [],
   "source": [
    "# get list of all json files in movies folder\n",
    "path = 'data/TMD-api/movies'\n",
    "movies_json_files = os.listdir(path)\n"
   ]
  },
  {
   "cell_type": "code",
   "execution_count": 14,
   "metadata": {},
   "outputs": [
    {
     "data": {
      "text/plain": [
       "33618"
      ]
     },
     "execution_count": 14,
     "metadata": {},
     "output_type": "execute_result"
    }
   ],
   "source": [
    "len(movies_json_files)\n"
   ]
  },
  {
   "cell_type": "code",
   "execution_count": 15,
   "metadata": {},
   "outputs": [],
   "source": [
    "# function to generate file path to read the json file from\n",
    "def generate_read_file_path(file, folder):\n",
    "    file_path = folder + '/' + file\n",
    "    return file_path\n"
   ]
  },
  {
   "cell_type": "code",
   "execution_count": 16,
   "metadata": {},
   "outputs": [],
   "source": [
    "folder_name = 'data/TMD-api/movies'\n"
   ]
  },
  {
   "cell_type": "code",
   "execution_count": 17,
   "metadata": {},
   "outputs": [
    {
     "data": {
      "application/vnd.jupyter.widget-view+json": {
       "model_id": "5b9e89e74c7c4ddd87f252f010a4f988",
       "version_major": 2,
       "version_minor": 0
      },
      "text/plain": [
       "  0%|          | 0/33618 [00:00<?, ?it/s]"
      ]
     },
     "metadata": {},
     "output_type": "display_data"
    }
   ],
   "source": [
    "df_movies_metadata = pd.DataFrame()\n",
    "\n",
    "for file in tqdm(movies_json_files):\n",
    "    file_path = generate_read_file_path(file, folder_name)\n",
    "    with open(file_path, 'r') as json_data:\n",
    "        data = json.load(json_data)\n",
    "        df_new = pd.json_normalize(data)\n",
    "        df_movies_metadata = pd.concat([df_movies_metadata, df_new])\n"
   ]
  },
  {
   "cell_type": "code",
   "execution_count": 18,
   "metadata": {},
   "outputs": [
    {
     "data": {
      "text/plain": [
       "33618"
      ]
     },
     "execution_count": 18,
     "metadata": {},
     "output_type": "execute_result"
    }
   ],
   "source": [
    "len(df_movies_metadata)\n"
   ]
  },
  {
   "cell_type": "code",
   "execution_count": 19,
   "metadata": {},
   "outputs": [
    {
     "data": {
      "text/html": [
       "<div>\n",
       "<style scoped>\n",
       "    .dataframe tbody tr th:only-of-type {\n",
       "        vertical-align: middle;\n",
       "    }\n",
       "\n",
       "    .dataframe tbody tr th {\n",
       "        vertical-align: top;\n",
       "    }\n",
       "\n",
       "    .dataframe thead th {\n",
       "        text-align: right;\n",
       "    }\n",
       "</style>\n",
       "<table border=\"1\" class=\"dataframe\">\n",
       "  <thead>\n",
       "    <tr style=\"text-align: right;\">\n",
       "      <th></th>\n",
       "      <th>adult</th>\n",
       "      <th>backdrop_path</th>\n",
       "      <th>belongs_to_collection</th>\n",
       "      <th>budget</th>\n",
       "      <th>genres</th>\n",
       "      <th>homepage</th>\n",
       "      <th>id</th>\n",
       "      <th>imdb_id</th>\n",
       "      <th>original_language</th>\n",
       "      <th>original_title</th>\n",
       "      <th>...</th>\n",
       "      <th>status</th>\n",
       "      <th>tagline</th>\n",
       "      <th>title</th>\n",
       "      <th>video</th>\n",
       "      <th>vote_average</th>\n",
       "      <th>vote_count</th>\n",
       "      <th>belongs_to_collection.id</th>\n",
       "      <th>belongs_to_collection.name</th>\n",
       "      <th>belongs_to_collection.poster_path</th>\n",
       "      <th>belongs_to_collection.backdrop_path</th>\n",
       "    </tr>\n",
       "  </thead>\n",
       "  <tbody>\n",
       "    <tr>\n",
       "      <th>0</th>\n",
       "      <td>False</td>\n",
       "      <td>/cXQH2u7wUIX1eoIdEj51kHXoWhX.jpg</td>\n",
       "      <td>None</td>\n",
       "      <td>1350000</td>\n",
       "      <td>[{'id': 35, 'name': 'Comedy'}, {'id': 80, 'nam...</td>\n",
       "      <td>http://www.universalstudiosentertainment.com/l...</td>\n",
       "      <td>100</td>\n",
       "      <td>tt0120735</td>\n",
       "      <td>en</td>\n",
       "      <td>Lock, Stock and Two Smoking Barrels</td>\n",
       "      <td>...</td>\n",
       "      <td>Released</td>\n",
       "      <td>A Disgrace to Criminals Everywhere.</td>\n",
       "      <td>Lock, Stock and Two Smoking Barrels</td>\n",
       "      <td>False</td>\n",
       "      <td>8.1</td>\n",
       "      <td>5798</td>\n",
       "      <td>NaN</td>\n",
       "      <td>NaN</td>\n",
       "      <td>NaN</td>\n",
       "      <td>NaN</td>\n",
       "    </tr>\n",
       "    <tr>\n",
       "      <th>0</th>\n",
       "      <td>False</td>\n",
       "      <td>/cbTvuGya7E1PnL8t95AWzumjqHg.jpg</td>\n",
       "      <td>None</td>\n",
       "      <td>0</td>\n",
       "      <td>[{'id': 18, 'name': 'Drama'}]</td>\n",
       "      <td></td>\n",
       "      <td>100017</td>\n",
       "      <td>tt0488903</td>\n",
       "      <td>de</td>\n",
       "      <td>Verfolgt</td>\n",
       "      <td>...</td>\n",
       "      <td>Released</td>\n",
       "      <td></td>\n",
       "      <td>Punish Me</td>\n",
       "      <td>False</td>\n",
       "      <td>4.6</td>\n",
       "      <td>16</td>\n",
       "      <td>NaN</td>\n",
       "      <td>NaN</td>\n",
       "      <td>NaN</td>\n",
       "      <td>NaN</td>\n",
       "    </tr>\n",
       "    <tr>\n",
       "      <th>0</th>\n",
       "      <td>False</td>\n",
       "      <td>None</td>\n",
       "      <td>None</td>\n",
       "      <td>0</td>\n",
       "      <td>[{'id': 18, 'name': 'Drama'}, {'id': 28, 'name...</td>\n",
       "      <td></td>\n",
       "      <td>100032</td>\n",
       "      <td>tt0099137</td>\n",
       "      <td>en</td>\n",
       "      <td>The Great Los Angeles Earthquake</td>\n",
       "      <td>...</td>\n",
       "      <td>Released</td>\n",
       "      <td>There is no safe harbor, there is no escape......</td>\n",
       "      <td>The Great Los Angeles Earthquake</td>\n",
       "      <td>False</td>\n",
       "      <td>6.9</td>\n",
       "      <td>13</td>\n",
       "      <td>NaN</td>\n",
       "      <td>NaN</td>\n",
       "      <td>NaN</td>\n",
       "      <td>NaN</td>\n",
       "    </tr>\n",
       "    <tr>\n",
       "      <th>0</th>\n",
       "      <td>False</td>\n",
       "      <td>None</td>\n",
       "      <td>None</td>\n",
       "      <td>0</td>\n",
       "      <td>[{'id': 27, 'name': 'Horror'}, {'id': 35, 'nam...</td>\n",
       "      <td></td>\n",
       "      <td>100034</td>\n",
       "      <td>tt0462634</td>\n",
       "      <td>en</td>\n",
       "      <td>The Worst Horror Movie Ever Made</td>\n",
       "      <td>...</td>\n",
       "      <td>Released</td>\n",
       "      <td></td>\n",
       "      <td>The Worst Horror Movie Ever Made</td>\n",
       "      <td>False</td>\n",
       "      <td>3.0</td>\n",
       "      <td>8</td>\n",
       "      <td>NaN</td>\n",
       "      <td>NaN</td>\n",
       "      <td>NaN</td>\n",
       "      <td>NaN</td>\n",
       "    </tr>\n",
       "    <tr>\n",
       "      <th>0</th>\n",
       "      <td>False</td>\n",
       "      <td>None</td>\n",
       "      <td>None</td>\n",
       "      <td>0</td>\n",
       "      <td>[{'id': 10402, 'name': 'Music'}]</td>\n",
       "      <td></td>\n",
       "      <td>100038</td>\n",
       "      <td></td>\n",
       "      <td>en</td>\n",
       "      <td>Meshuggah - Nothing</td>\n",
       "      <td>...</td>\n",
       "      <td>Released</td>\n",
       "      <td></td>\n",
       "      <td>Meshuggah - Nothing</td>\n",
       "      <td>False</td>\n",
       "      <td>4.0</td>\n",
       "      <td>2</td>\n",
       "      <td>NaN</td>\n",
       "      <td>NaN</td>\n",
       "      <td>NaN</td>\n",
       "      <td>NaN</td>\n",
       "    </tr>\n",
       "  </tbody>\n",
       "</table>\n",
       "<p>5 rows × 29 columns</p>\n",
       "</div>"
      ],
      "text/plain": [
       "   adult                     backdrop_path belongs_to_collection   budget  \\\n",
       "0  False  /cXQH2u7wUIX1eoIdEj51kHXoWhX.jpg                  None  1350000   \n",
       "0  False  /cbTvuGya7E1PnL8t95AWzumjqHg.jpg                  None        0   \n",
       "0  False                              None                  None        0   \n",
       "0  False                              None                  None        0   \n",
       "0  False                              None                  None        0   \n",
       "\n",
       "                                              genres  \\\n",
       "0  [{'id': 35, 'name': 'Comedy'}, {'id': 80, 'nam...   \n",
       "0                      [{'id': 18, 'name': 'Drama'}]   \n",
       "0  [{'id': 18, 'name': 'Drama'}, {'id': 28, 'name...   \n",
       "0  [{'id': 27, 'name': 'Horror'}, {'id': 35, 'nam...   \n",
       "0                   [{'id': 10402, 'name': 'Music'}]   \n",
       "\n",
       "                                            homepage      id    imdb_id  \\\n",
       "0  http://www.universalstudiosentertainment.com/l...     100  tt0120735   \n",
       "0                                                     100017  tt0488903   \n",
       "0                                                     100032  tt0099137   \n",
       "0                                                     100034  tt0462634   \n",
       "0                                                     100038              \n",
       "\n",
       "  original_language                       original_title  ...    status  \\\n",
       "0                en  Lock, Stock and Two Smoking Barrels  ...  Released   \n",
       "0                de                             Verfolgt  ...  Released   \n",
       "0                en     The Great Los Angeles Earthquake  ...  Released   \n",
       "0                en     The Worst Horror Movie Ever Made  ...  Released   \n",
       "0                en                  Meshuggah - Nothing  ...  Released   \n",
       "\n",
       "                                             tagline  \\\n",
       "0                A Disgrace to Criminals Everywhere.   \n",
       "0                                                      \n",
       "0  There is no safe harbor, there is no escape......   \n",
       "0                                                      \n",
       "0                                                      \n",
       "\n",
       "                                 title  video vote_average vote_count  \\\n",
       "0  Lock, Stock and Two Smoking Barrels  False          8.1       5798   \n",
       "0                            Punish Me  False          4.6         16   \n",
       "0     The Great Los Angeles Earthquake  False          6.9         13   \n",
       "0     The Worst Horror Movie Ever Made  False          3.0          8   \n",
       "0                  Meshuggah - Nothing  False          4.0          2   \n",
       "\n",
       "   belongs_to_collection.id  belongs_to_collection.name  \\\n",
       "0                       NaN                         NaN   \n",
       "0                       NaN                         NaN   \n",
       "0                       NaN                         NaN   \n",
       "0                       NaN                         NaN   \n",
       "0                       NaN                         NaN   \n",
       "\n",
       "  belongs_to_collection.poster_path belongs_to_collection.backdrop_path  \n",
       "0                               NaN                                 NaN  \n",
       "0                               NaN                                 NaN  \n",
       "0                               NaN                                 NaN  \n",
       "0                               NaN                                 NaN  \n",
       "0                               NaN                                 NaN  \n",
       "\n",
       "[5 rows x 29 columns]"
      ]
     },
     "execution_count": 19,
     "metadata": {},
     "output_type": "execute_result"
    }
   ],
   "source": [
    "df_movies_metadata.head()\n"
   ]
  },
  {
   "cell_type": "code",
   "execution_count": 20,
   "metadata": {},
   "outputs": [],
   "source": [
    "df_movies_metadata.to_csv('data/movies-metadata.csv', index=False)\n"
   ]
  },
  {
   "cell_type": "code",
   "execution_count": 21,
   "metadata": {},
   "outputs": [],
   "source": [
    "# function to generate the link to download credits json file\n",
    "def generate_credits_link(movie_id, api_key):\n",
    "    link = 'https://api.themoviedb.org/3/movie/{movie_id}/credits?api_key={api_key}'.format(\n",
    "        movie_id=movie_id, api_key=secrets['api_key'])\n",
    "    return link\n"
   ]
  },
  {
   "cell_type": "code",
   "execution_count": 22,
   "metadata": {},
   "outputs": [
    {
     "data": {
      "application/vnd.jupyter.widget-view+json": {
       "model_id": "42108b0494de4568bba68e28e78b47d8",
       "version_major": 2,
       "version_minor": 0
      },
      "text/plain": [
       "  0%|          | 0/62423 [00:00<?, ?it/s]"
      ]
     },
     "metadata": {},
     "output_type": "display_data"
    }
   ],
   "source": [
    "# download credits from TMD for each movie in movies.csv\n",
    "folder_name = 'data/TMD-api/credits'\n",
    "credits_api_success_list = []\n",
    "for movie_id in tqdm(movie_id_list):\n",
    "    link = generate_credits_link(movie_id, secrets['api_key'])\n",
    "    file_path = generate_write_file_path(movie_id, folder_name)\n",
    "\n",
    "    if not os.path.isfile(file_path):\n",
    "        # file does not exist\n",
    "        try:\n",
    "            urllib.request.urlretrieve(link, filename=file_path)\n",
    "            credits_api_success_list.append(1)\n",
    "        except:\n",
    "            credits_api_success_list.append(0)\n",
    "    else:\n",
    "        # file exists\n",
    "        credits_api_success_list.append(1)\n"
   ]
  },
  {
   "cell_type": "code",
   "execution_count": 23,
   "metadata": {},
   "outputs": [],
   "source": [
    "df_credits_api_download = pd.DataFrame(\n",
    "    {'movie_id': movie_id_list, 'api_success': credits_api_success_list})\n"
   ]
  },
  {
   "cell_type": "code",
   "execution_count": 24,
   "metadata": {},
   "outputs": [],
   "source": [
    "df_credits_api_download.to_csv(\n",
    "    'data/TMD-api/credits-api-download-success.csv', index=False)\n"
   ]
  },
  {
   "cell_type": "code",
   "execution_count": 25,
   "metadata": {},
   "outputs": [],
   "source": [
    "# get list of all json files in credits folder\n",
    "path = 'data/TMD-api/credits'\n",
    "credits_json_files = os.listdir(path)\n"
   ]
  },
  {
   "cell_type": "code",
   "execution_count": 26,
   "metadata": {},
   "outputs": [
    {
     "data": {
      "text/plain": [
       "33618"
      ]
     },
     "execution_count": 26,
     "metadata": {},
     "output_type": "execute_result"
    }
   ],
   "source": [
    "len(credits_json_files)\n"
   ]
  },
  {
   "cell_type": "code",
   "execution_count": 27,
   "metadata": {},
   "outputs": [],
   "source": [
    "folder_name = 'data/TMD-api/credits'\n"
   ]
  },
  {
   "cell_type": "code",
   "execution_count": 28,
   "metadata": {},
   "outputs": [
    {
     "data": {
      "application/vnd.jupyter.widget-view+json": {
       "model_id": "cdd6536e4ac64a23849c6220024afb5d",
       "version_major": 2,
       "version_minor": 0
      },
      "text/plain": [
       "  0%|          | 0/33618 [00:00<?, ?it/s]"
      ]
     },
     "metadata": {},
     "output_type": "display_data"
    }
   ],
   "source": [
    "df_credits = pd.DataFrame()\n",
    "\n",
    "for file in tqdm(credits_json_files):\n",
    "    file_path = generate_read_file_path(file, folder_name)\n",
    "    with open(file_path, 'r') as json_data:\n",
    "        data = json.load(json_data)\n",
    "        df_new = pd.json_normalize(data)\n",
    "        df_credits = pd.concat([df_credits, df_new])\n"
   ]
  },
  {
   "cell_type": "code",
   "execution_count": 29,
   "metadata": {},
   "outputs": [
    {
     "data": {
      "text/plain": [
       "33618"
      ]
     },
     "execution_count": 29,
     "metadata": {},
     "output_type": "execute_result"
    }
   ],
   "source": [
    "len(df_credits)\n"
   ]
  },
  {
   "cell_type": "code",
   "execution_count": 30,
   "metadata": {},
   "outputs": [
    {
     "data": {
      "text/html": [
       "<div>\n",
       "<style scoped>\n",
       "    .dataframe tbody tr th:only-of-type {\n",
       "        vertical-align: middle;\n",
       "    }\n",
       "\n",
       "    .dataframe tbody tr th {\n",
       "        vertical-align: top;\n",
       "    }\n",
       "\n",
       "    .dataframe thead th {\n",
       "        text-align: right;\n",
       "    }\n",
       "</style>\n",
       "<table border=\"1\" class=\"dataframe\">\n",
       "  <thead>\n",
       "    <tr style=\"text-align: right;\">\n",
       "      <th></th>\n",
       "      <th>id</th>\n",
       "      <th>cast</th>\n",
       "      <th>crew</th>\n",
       "    </tr>\n",
       "  </thead>\n",
       "  <tbody>\n",
       "    <tr>\n",
       "      <th>0</th>\n",
       "      <td>100</td>\n",
       "      <td>[{'adult': False, 'gender': 2, 'id': 973, 'kno...</td>\n",
       "      <td>[{'adult': False, 'gender': 2, 'id': 960, 'kno...</td>\n",
       "    </tr>\n",
       "    <tr>\n",
       "      <th>0</th>\n",
       "      <td>100017</td>\n",
       "      <td>[{'adult': False, 'gender': 2, 'id': 5202, 'kn...</td>\n",
       "      <td>[{'adult': False, 'gender': 1, 'id': 2338, 'kn...</td>\n",
       "    </tr>\n",
       "    <tr>\n",
       "      <th>0</th>\n",
       "      <td>100032</td>\n",
       "      <td>[{'adult': False, 'gender': 1, 'id': 87038, 'k...</td>\n",
       "      <td>[{'adult': False, 'gender': 2, 'id': 36116, 'k...</td>\n",
       "    </tr>\n",
       "    <tr>\n",
       "      <th>0</th>\n",
       "      <td>100034</td>\n",
       "      <td>[{'adult': False, 'gender': 0, 'id': 1022808, ...</td>\n",
       "      <td>[{'adult': False, 'gender': 2, 'id': 99005, 'k...</td>\n",
       "    </tr>\n",
       "    <tr>\n",
       "      <th>0</th>\n",
       "      <td>100038</td>\n",
       "      <td>[]</td>\n",
       "      <td>[]</td>\n",
       "    </tr>\n",
       "  </tbody>\n",
       "</table>\n",
       "</div>"
      ],
      "text/plain": [
       "       id                                               cast  \\\n",
       "0     100  [{'adult': False, 'gender': 2, 'id': 973, 'kno...   \n",
       "0  100017  [{'adult': False, 'gender': 2, 'id': 5202, 'kn...   \n",
       "0  100032  [{'adult': False, 'gender': 1, 'id': 87038, 'k...   \n",
       "0  100034  [{'adult': False, 'gender': 0, 'id': 1022808, ...   \n",
       "0  100038                                                 []   \n",
       "\n",
       "                                                crew  \n",
       "0  [{'adult': False, 'gender': 2, 'id': 960, 'kno...  \n",
       "0  [{'adult': False, 'gender': 1, 'id': 2338, 'kn...  \n",
       "0  [{'adult': False, 'gender': 2, 'id': 36116, 'k...  \n",
       "0  [{'adult': False, 'gender': 2, 'id': 99005, 'k...  \n",
       "0                                                 []  "
      ]
     },
     "execution_count": 30,
     "metadata": {},
     "output_type": "execute_result"
    }
   ],
   "source": [
    "df_credits.head()\n"
   ]
  },
  {
   "cell_type": "code",
   "execution_count": 31,
   "metadata": {},
   "outputs": [],
   "source": [
    "df_credits.to_csv('data/credits.csv', index=False)\n"
   ]
  }
 ],
 "metadata": {
  "kernelspec": {
   "display_name": "movie-recommender",
   "language": "python",
   "name": "python3"
  },
  "language_info": {
   "codemirror_mode": {
    "name": "ipython",
    "version": 3
   },
   "file_extension": ".py",
   "mimetype": "text/x-python",
   "name": "python",
   "nbconvert_exporter": "python",
   "pygments_lexer": "ipython3",
   "version": "3.10.9"
  },
  "orig_nbformat": 4,
  "vscode": {
   "interpreter": {
    "hash": "ad7f4f5a0911d7d184414395415b680caa8b5101c4b473c7f00c07410d0c0504"
   }
  }
 },
 "nbformat": 4,
 "nbformat_minor": 2
}

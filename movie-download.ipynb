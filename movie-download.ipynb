{
 "cells": [
  {
   "cell_type": "code",
   "execution_count": 1,
   "metadata": {},
   "outputs": [],
   "source": [
    "# imports\n",
    "import concurrent.futures\n",
    "import itertools\n",
    "import json\n",
    "import os\n",
    "import urllib\n",
    "from zipfile import ZipFile\n",
    "\n",
    "import numpy as np\n",
    "import pandas as pd\n",
    "from tqdm.auto import tqdm\n"
   ]
  },
  {
   "cell_type": "code",
   "execution_count": 2,
   "metadata": {},
   "outputs": [],
   "source": [
    "# function to download the data in csv format\n",
    "def download_data(link, folder):\n",
    "    zip_file_name = link.rsplit('/', 1)[-1]\n",
    "    zip_full_path = folder + '/' + zip_file_name\n",
    "    urllib.request.urlretrieve(link, filename=zip_full_path)\n",
    "\n",
    "    with ZipFile(zip_full_path, 'r') as z_object:\n",
    "        z_object.extractall(path=folder + '/')\n"
   ]
  },
  {
   "cell_type": "code",
   "execution_count": 3,
   "metadata": {},
   "outputs": [],
   "source": [
    "link = 'https://files.grouplens.org/datasets/movielens/ml-25m.zip'\n",
    "folder = 'data'\n",
    "download_data(link, folder)\n"
   ]
  },
  {
   "cell_type": "code",
   "execution_count": 4,
   "metadata": {},
   "outputs": [],
   "source": [
    "def read_secrets() -> dict:\n",
    "    filename = os.path.join('secrets.json')\n",
    "    try:\n",
    "        with open(filename, mode='r') as f:\n",
    "            return json.loads(f.read())\n",
    "    except FileNotFoundError:\n",
    "        return {}\n"
   ]
  },
  {
   "cell_type": "code",
   "execution_count": 5,
   "metadata": {},
   "outputs": [],
   "source": [
    "secrets = read_secrets()\n"
   ]
  },
  {
   "cell_type": "code",
   "execution_count": 6,
   "metadata": {},
   "outputs": [],
   "source": [
    "df_movies = pd.read_csv('data/ml-25m/movies.csv')\n"
   ]
  },
  {
   "cell_type": "code",
   "execution_count": 7,
   "metadata": {},
   "outputs": [],
   "source": [
    "movie_id_list = df_movies['movieId'].to_list()\n"
   ]
  },
  {
   "cell_type": "code",
   "execution_count": 8,
   "metadata": {},
   "outputs": [],
   "source": [
    "# function to generate the link to download metadata json file\n",
    "def generate_metadata_link(movie_id, api_key):\n",
    "    link = 'https://api.themoviedb.org/3/movie/{movie_id}?api_key={api_key}'.format(\n",
    "        movie_id=movie_id, api_key=secrets['api_key'])\n",
    "    return link\n"
   ]
  },
  {
   "cell_type": "code",
   "execution_count": 9,
   "metadata": {},
   "outputs": [],
   "source": [
    "# function to generate file path to write the downloaded json file to\n",
    "def generate_write_file_path(movie_id, folder):\n",
    "    file_path = folder + '/' + str(movie_id) + '.json'\n",
    "    return file_path\n",
    "    "
   ]
  },
  {
   "cell_type": "code",
   "execution_count": 10,
   "metadata": {},
   "outputs": [],
   "source": [
    "folder_name = 'data/TMD-api/movies'\n",
    "api_success_list = []\n"
   ]
  },
  {
   "cell_type": "code",
   "execution_count": 11,
   "metadata": {},
   "outputs": [],
   "source": [
    "# function that checks if json file exists, else try to retrieve it from TMD api\n",
    "def do_operation(movie_id, folder_name=folder_name):\n",
    "    try:\n",
    "        link = generate_metadata_link(movie_id, secrets['api_key'])\n",
    "        file_path = generate_write_file_path(movie_id, folder_name)\n",
    "\n",
    "        if not os.path.isfile(file_path):\n",
    "            # file does not exist\n",
    "            try:\n",
    "                urllib.request.urlretrieve(link, filename=file_path)\n",
    "                api_success_list.append(1)\n",
    "            except:\n",
    "                api_success_list.append(0)\n",
    "        else:\n",
    "            # file exists\n",
    "            api_success_list.append(1)\n",
    "    except:\n",
    "        print(str(movie_id) + 'failed')\n",
    "        "
   ]
  },
  {
   "cell_type": "code",
   "execution_count": 12,
   "metadata": {},
   "outputs": [],
   "source": [
    "# function to perform above function for a list of movie ids\n",
    "def do_multiple_operations(movie_id_many, folder_name=folder_name):\n",
    "    for movie_id in movie_id_many:\n",
    "        do_operation(movie_id, folder_name)\n",
    "        "
   ]
  },
  {
   "cell_type": "code",
   "execution_count": 13,
   "metadata": {},
   "outputs": [],
   "source": [
    "# function to create groups of n size\n",
    "def grouper(iterable, n, *, incomplete='fill', fillvalue=None):\n",
    "    \"Collect data into non-overlapping fixed-length chunks or blocks\"\n",
    "    # grouper('ABCDEFG', 3, fillvalue='x') --> ABC DEF Gxx\n",
    "    # grouper('ABCDEFG', 3, incomplete='strict') --> ABC DEF ValueError\n",
    "    # grouper('ABCDEFG', 3, incomplete='ignore') --> ABC DEF\n",
    "    args = [iter(iterable)] * n\n",
    "    if incomplete == 'fill':\n",
    "        return itertools.zip_longest(*args, fillvalue=fillvalue)\n",
    "    if incomplete == 'strict':\n",
    "        return zip(*args, strict=True)\n",
    "    if incomplete == 'ignore':\n",
    "        return zip(*args)\n",
    "    else:\n",
    "        raise ValueError('Expected fill, strict, or ignore')\n"
   ]
  },
  {
   "cell_type": "code",
   "execution_count": 14,
   "metadata": {},
   "outputs": [
    {
     "data": {
      "text/plain": [
       "DoneAndNotDoneFutures(done={<Future at 0x20f9619f010 state=finished raised TypeError>, <Future at 0x20f96828040 state=finished raised TypeError>, <Future at 0x20f9619e860 state=finished raised TypeError>, <Future at 0x20f9619f0a0 state=finished raised TypeError>, <Future at 0x20f96828130 state=finished raised TypeError>, <Future at 0x20f9619f940 state=finished raised TypeError>, <Future at 0x20f9619f970 state=finished raised TypeError>, <Future at 0x20f9619e9e0 state=finished raised TypeError>, <Future at 0x20f96828220 state=finished raised TypeError>, <Future at 0x20f96828a60 state=finished raised TypeError>, <Future at 0x20f9619f2e0 state=finished raised TypeError>, <Future at 0x20f96828370 state=finished raised TypeError>, <Future at 0x20f9619fb80 state=finished raised TypeError>, <Future at 0x20f968283a0 state=finished raised TypeError>, <Future at 0x20f9619ebc0 state=finished raised TypeError>, <Future at 0x20f93cf1bd0 state=finished raised TypeError>, <Future at 0x20f9619ebf0 state=finished raised TypeError>, <Future at 0x20f96828400 state=finished raised TypeError>, <Future at 0x20f9619ec80 state=finished raised TypeError>, <Future at 0x20f9619f490 state=finished raised TypeError>, <Future at 0x20f9619ece0 state=finished raised TypeError>, <Future at 0x20f9619fd00 state=finished raised TypeError>, <Future at 0x20f96828520 state=finished raised TypeError>, <Future at 0x20f93cf3550 state=finished raised TypeError>, <Future at 0x20f96828580 state=finished raised TypeError>, <Future at 0x20f9619fdc0 state=finished raised TypeError>, <Future at 0x20f9619fdf0 state=finished raised TypeError>, <Future at 0x20f968286a0 state=finished raised TypeError>, <Future at 0x20f96828760 state=finished raised TypeError>, <Future at 0x20f9619f790 state=finished raised TypeError>, <Future at 0x20f9619efe0 state=finished raised TypeError>, <Future at 0x20f968287f0 state=finished raised TypeError>}, not_done=set())"
      ]
     },
     "execution_count": 14,
     "metadata": {},
     "output_type": "execute_result"
    }
   ],
   "source": [
    "# create executor with 16 threads\n",
    "executor = concurrent.futures.ThreadPoolExecutor(16)\n",
    "\n",
    "# perform operations for batches\n",
    "futures = [executor.submit(do_multiple_operations(group), group)\n",
    "           for group in grouper(movie_id_list, 2000)]\n",
    "concurrent.futures.wait(futures)\n"
   ]
  },
  {
   "cell_type": "code",
   "execution_count": 15,
   "metadata": {},
   "outputs": [],
   "source": [
    "api_success_list = api_success_list[:len(movie_id_list)]\n"
   ]
  },
  {
   "cell_type": "code",
   "execution_count": 16,
   "metadata": {},
   "outputs": [],
   "source": [
    "df_movies_api_download = pd.DataFrame(\n",
    "    {'movie_id': movie_id_list, 'api_success': api_success_list})\n"
   ]
  },
  {
   "cell_type": "code",
   "execution_count": 17,
   "metadata": {},
   "outputs": [],
   "source": [
    "df_movies_api_download.to_csv(\n",
    "    'data/TMD-api/movies-api-download-success-multiprocess.csv', index=False)\n"
   ]
  },
  {
   "cell_type": "code",
   "execution_count": 18,
   "metadata": {},
   "outputs": [],
   "source": [
    "# get list of all json files in movies folder\n",
    "path = 'data/TMD-api/movies'\n",
    "movies_json_files = os.listdir(path)\n"
   ]
  },
  {
   "cell_type": "code",
   "execution_count": 19,
   "metadata": {},
   "outputs": [
    {
     "data": {
      "text/plain": [
       "33618"
      ]
     },
     "execution_count": 19,
     "metadata": {},
     "output_type": "execute_result"
    }
   ],
   "source": [
    "len(movies_json_files)\n"
   ]
  },
  {
   "cell_type": "code",
   "execution_count": 20,
   "metadata": {},
   "outputs": [],
   "source": [
    "# function to generate file path to read the json file from\n",
    "def generate_read_file_path(file, folder):\n",
    "    file_path = folder + '/' + file\n",
    "    return file_path\n"
   ]
  },
  {
   "cell_type": "code",
   "execution_count": 21,
   "metadata": {},
   "outputs": [],
   "source": [
    "folder_name = 'data/TMD-api/movies'\n"
   ]
  },
  {
   "cell_type": "code",
   "execution_count": 22,
   "metadata": {},
   "outputs": [
    {
     "data": {
      "application/vnd.jupyter.widget-view+json": {
       "model_id": "6cd7e89eca6b4a7791573cd3c3b2234a",
       "version_major": 2,
       "version_minor": 0
      },
      "text/plain": [
       "  0%|          | 0/33618 [00:00<?, ?it/s]"
      ]
     },
     "metadata": {},
     "output_type": "display_data"
    }
   ],
   "source": [
    "df_movies_metadata = pd.DataFrame()\n",
    "\n",
    "for file in tqdm(movies_json_files):\n",
    "    file_path = generate_read_file_path(file, folder_name)\n",
    "    with open(file_path, 'r') as json_data:\n",
    "        data = json.load(json_data)\n",
    "        df_new = pd.json_normalize(data)\n",
    "        df_movies_metadata = pd.concat([df_movies_metadata, df_new])\n"
   ]
  },
  {
   "cell_type": "code",
   "execution_count": 23,
   "metadata": {},
   "outputs": [
    {
     "data": {
      "text/plain": [
       "33618"
      ]
     },
     "execution_count": 23,
     "metadata": {},
     "output_type": "execute_result"
    }
   ],
   "source": [
    "len(df_movies_metadata)\n"
   ]
  },
  {
   "cell_type": "code",
   "execution_count": 24,
   "metadata": {},
   "outputs": [
    {
     "data": {
      "text/html": [
       "<div>\n",
       "<style scoped>\n",
       "    .dataframe tbody tr th:only-of-type {\n",
       "        vertical-align: middle;\n",
       "    }\n",
       "\n",
       "    .dataframe tbody tr th {\n",
       "        vertical-align: top;\n",
       "    }\n",
       "\n",
       "    .dataframe thead th {\n",
       "        text-align: right;\n",
       "    }\n",
       "</style>\n",
       "<table border=\"1\" class=\"dataframe\">\n",
       "  <thead>\n",
       "    <tr style=\"text-align: right;\">\n",
       "      <th></th>\n",
       "      <th>adult</th>\n",
       "      <th>backdrop_path</th>\n",
       "      <th>belongs_to_collection</th>\n",
       "      <th>budget</th>\n",
       "      <th>genres</th>\n",
       "      <th>homepage</th>\n",
       "      <th>id</th>\n",
       "      <th>imdb_id</th>\n",
       "      <th>original_language</th>\n",
       "      <th>original_title</th>\n",
       "      <th>...</th>\n",
       "      <th>status</th>\n",
       "      <th>tagline</th>\n",
       "      <th>title</th>\n",
       "      <th>video</th>\n",
       "      <th>vote_average</th>\n",
       "      <th>vote_count</th>\n",
       "      <th>belongs_to_collection.id</th>\n",
       "      <th>belongs_to_collection.name</th>\n",
       "      <th>belongs_to_collection.poster_path</th>\n",
       "      <th>belongs_to_collection.backdrop_path</th>\n",
       "    </tr>\n",
       "  </thead>\n",
       "  <tbody>\n",
       "    <tr>\n",
       "      <th>0</th>\n",
       "      <td>False</td>\n",
       "      <td>/cXQH2u7wUIX1eoIdEj51kHXoWhX.jpg</td>\n",
       "      <td>None</td>\n",
       "      <td>1350000</td>\n",
       "      <td>[{'id': 35, 'name': 'Comedy'}, {'id': 80, 'nam...</td>\n",
       "      <td>http://www.universalstudiosentertainment.com/l...</td>\n",
       "      <td>100</td>\n",
       "      <td>tt0120735</td>\n",
       "      <td>en</td>\n",
       "      <td>Lock, Stock and Two Smoking Barrels</td>\n",
       "      <td>...</td>\n",
       "      <td>Released</td>\n",
       "      <td>A Disgrace to Criminals Everywhere.</td>\n",
       "      <td>Lock, Stock and Two Smoking Barrels</td>\n",
       "      <td>False</td>\n",
       "      <td>8.1</td>\n",
       "      <td>5798</td>\n",
       "      <td>NaN</td>\n",
       "      <td>NaN</td>\n",
       "      <td>NaN</td>\n",
       "      <td>NaN</td>\n",
       "    </tr>\n",
       "    <tr>\n",
       "      <th>0</th>\n",
       "      <td>False</td>\n",
       "      <td>/cbTvuGya7E1PnL8t95AWzumjqHg.jpg</td>\n",
       "      <td>None</td>\n",
       "      <td>0</td>\n",
       "      <td>[{'id': 18, 'name': 'Drama'}]</td>\n",
       "      <td></td>\n",
       "      <td>100017</td>\n",
       "      <td>tt0488903</td>\n",
       "      <td>de</td>\n",
       "      <td>Verfolgt</td>\n",
       "      <td>...</td>\n",
       "      <td>Released</td>\n",
       "      <td></td>\n",
       "      <td>Punish Me</td>\n",
       "      <td>False</td>\n",
       "      <td>4.6</td>\n",
       "      <td>16</td>\n",
       "      <td>NaN</td>\n",
       "      <td>NaN</td>\n",
       "      <td>NaN</td>\n",
       "      <td>NaN</td>\n",
       "    </tr>\n",
       "    <tr>\n",
       "      <th>0</th>\n",
       "      <td>False</td>\n",
       "      <td>None</td>\n",
       "      <td>None</td>\n",
       "      <td>0</td>\n",
       "      <td>[{'id': 18, 'name': 'Drama'}, {'id': 28, 'name...</td>\n",
       "      <td></td>\n",
       "      <td>100032</td>\n",
       "      <td>tt0099137</td>\n",
       "      <td>en</td>\n",
       "      <td>The Great Los Angeles Earthquake</td>\n",
       "      <td>...</td>\n",
       "      <td>Released</td>\n",
       "      <td>There is no safe harbor, there is no escape......</td>\n",
       "      <td>The Great Los Angeles Earthquake</td>\n",
       "      <td>False</td>\n",
       "      <td>6.9</td>\n",
       "      <td>13</td>\n",
       "      <td>NaN</td>\n",
       "      <td>NaN</td>\n",
       "      <td>NaN</td>\n",
       "      <td>NaN</td>\n",
       "    </tr>\n",
       "    <tr>\n",
       "      <th>0</th>\n",
       "      <td>False</td>\n",
       "      <td>None</td>\n",
       "      <td>None</td>\n",
       "      <td>0</td>\n",
       "      <td>[{'id': 27, 'name': 'Horror'}, {'id': 35, 'nam...</td>\n",
       "      <td></td>\n",
       "      <td>100034</td>\n",
       "      <td>tt0462634</td>\n",
       "      <td>en</td>\n",
       "      <td>The Worst Horror Movie Ever Made</td>\n",
       "      <td>...</td>\n",
       "      <td>Released</td>\n",
       "      <td></td>\n",
       "      <td>The Worst Horror Movie Ever Made</td>\n",
       "      <td>False</td>\n",
       "      <td>3.0</td>\n",
       "      <td>8</td>\n",
       "      <td>NaN</td>\n",
       "      <td>NaN</td>\n",
       "      <td>NaN</td>\n",
       "      <td>NaN</td>\n",
       "    </tr>\n",
       "    <tr>\n",
       "      <th>0</th>\n",
       "      <td>False</td>\n",
       "      <td>None</td>\n",
       "      <td>None</td>\n",
       "      <td>0</td>\n",
       "      <td>[{'id': 10402, 'name': 'Music'}]</td>\n",
       "      <td></td>\n",
       "      <td>100038</td>\n",
       "      <td></td>\n",
       "      <td>en</td>\n",
       "      <td>Meshuggah - Nothing</td>\n",
       "      <td>...</td>\n",
       "      <td>Released</td>\n",
       "      <td></td>\n",
       "      <td>Meshuggah - Nothing</td>\n",
       "      <td>False</td>\n",
       "      <td>4.0</td>\n",
       "      <td>2</td>\n",
       "      <td>NaN</td>\n",
       "      <td>NaN</td>\n",
       "      <td>NaN</td>\n",
       "      <td>NaN</td>\n",
       "    </tr>\n",
       "  </tbody>\n",
       "</table>\n",
       "<p>5 rows × 29 columns</p>\n",
       "</div>"
      ],
      "text/plain": [
       "   adult                     backdrop_path belongs_to_collection   budget  \\\n",
       "0  False  /cXQH2u7wUIX1eoIdEj51kHXoWhX.jpg                  None  1350000   \n",
       "0  False  /cbTvuGya7E1PnL8t95AWzumjqHg.jpg                  None        0   \n",
       "0  False                              None                  None        0   \n",
       "0  False                              None                  None        0   \n",
       "0  False                              None                  None        0   \n",
       "\n",
       "                                              genres  \\\n",
       "0  [{'id': 35, 'name': 'Comedy'}, {'id': 80, 'nam...   \n",
       "0                      [{'id': 18, 'name': 'Drama'}]   \n",
       "0  [{'id': 18, 'name': 'Drama'}, {'id': 28, 'name...   \n",
       "0  [{'id': 27, 'name': 'Horror'}, {'id': 35, 'nam...   \n",
       "0                   [{'id': 10402, 'name': 'Music'}]   \n",
       "\n",
       "                                            homepage      id    imdb_id  \\\n",
       "0  http://www.universalstudiosentertainment.com/l...     100  tt0120735   \n",
       "0                                                     100017  tt0488903   \n",
       "0                                                     100032  tt0099137   \n",
       "0                                                     100034  tt0462634   \n",
       "0                                                     100038              \n",
       "\n",
       "  original_language                       original_title  ...    status  \\\n",
       "0                en  Lock, Stock and Two Smoking Barrels  ...  Released   \n",
       "0                de                             Verfolgt  ...  Released   \n",
       "0                en     The Great Los Angeles Earthquake  ...  Released   \n",
       "0                en     The Worst Horror Movie Ever Made  ...  Released   \n",
       "0                en                  Meshuggah - Nothing  ...  Released   \n",
       "\n",
       "                                             tagline  \\\n",
       "0                A Disgrace to Criminals Everywhere.   \n",
       "0                                                      \n",
       "0  There is no safe harbor, there is no escape......   \n",
       "0                                                      \n",
       "0                                                      \n",
       "\n",
       "                                 title  video vote_average vote_count  \\\n",
       "0  Lock, Stock and Two Smoking Barrels  False          8.1       5798   \n",
       "0                            Punish Me  False          4.6         16   \n",
       "0     The Great Los Angeles Earthquake  False          6.9         13   \n",
       "0     The Worst Horror Movie Ever Made  False          3.0          8   \n",
       "0                  Meshuggah - Nothing  False          4.0          2   \n",
       "\n",
       "   belongs_to_collection.id  belongs_to_collection.name  \\\n",
       "0                       NaN                         NaN   \n",
       "0                       NaN                         NaN   \n",
       "0                       NaN                         NaN   \n",
       "0                       NaN                         NaN   \n",
       "0                       NaN                         NaN   \n",
       "\n",
       "  belongs_to_collection.poster_path belongs_to_collection.backdrop_path  \n",
       "0                               NaN                                 NaN  \n",
       "0                               NaN                                 NaN  \n",
       "0                               NaN                                 NaN  \n",
       "0                               NaN                                 NaN  \n",
       "0                               NaN                                 NaN  \n",
       "\n",
       "[5 rows x 29 columns]"
      ]
     },
     "execution_count": 24,
     "metadata": {},
     "output_type": "execute_result"
    }
   ],
   "source": [
    "df_movies_metadata.head()\n"
   ]
  },
  {
   "cell_type": "code",
   "execution_count": 25,
   "metadata": {},
   "outputs": [],
   "source": [
    "df_movies_metadata.to_csv('data/movies-metadata.csv', index=False)\n"
   ]
  },
  {
   "cell_type": "code",
   "execution_count": 26,
   "metadata": {},
   "outputs": [],
   "source": [
    "# function to generate the link to download credits json file\n",
    "def generate_credits_link(movie_id, api_key):\n",
    "    link = 'https://api.themoviedb.org/3/movie/{movie_id}/credits?api_key={api_key}'.format(\n",
    "        movie_id=movie_id, api_key=secrets['api_key'])\n",
    "    return link\n"
   ]
  },
  {
   "cell_type": "code",
   "execution_count": 27,
   "metadata": {},
   "outputs": [],
   "source": [
    "folder_name = 'data/TMD-api/credits'\n",
    "api_success_list = []\n"
   ]
  },
  {
   "cell_type": "code",
   "execution_count": 28,
   "metadata": {},
   "outputs": [
    {
     "data": {
      "text/plain": [
       "DoneAndNotDoneFutures(done={<Future at 0x20f986d7820 state=finished raised TypeError>, <Future at 0x20f986d5030 state=finished raised TypeError>, <Future at 0x20f986d6050 state=finished raised TypeError>, <Future at 0x20f986d7850 state=finished raised TypeError>, <Future at 0x20f986d6890 state=finished raised TypeError>, <Future at 0x20f986d60e0 state=finished raised TypeError>, <Future at 0x20f986d4940 state=finished raised TypeError>, <Future at 0x20f986d49d0 state=finished raised TypeError>, <Future at 0x20f986d69e0 state=finished raised TypeError>, <Future at 0x20f986d6a10 state=finished raised TypeError>, <Future at 0x20f986d7220 state=finished raised TypeError>, <Future at 0x20f986d6ad0 state=finished raised TypeError>, <Future at 0x20f986d5b70 state=finished raised TypeError>, <Future at 0x20f986d6380 state=finished raised TypeError>, <Future at 0x20f986d63e0 state=finished raised TypeError>, <Future at 0x20f986d5420 state=finished raised TypeError>, <Future at 0x20f9619fc40 state=finished raised TypeError>, <Future at 0x20f986d7550 state=finished raised TypeError>, <Future at 0x20f986d4580 state=finished raised TypeError>, <Future at 0x20f986d55a0 state=finished raised TypeError>, <Future at 0x20f986d6e30 state=finished raised TypeError>, <Future at 0x20f986d5e70 state=finished raised TypeError>, <Future at 0x20f986d7670 state=finished raised TypeError>, <Future at 0x20f986d76a0 state=finished raised TypeError>, <Future at 0x20f986d76d0 state=finished raised TypeError>, <Future at 0x20f986d7700 state=finished raised TypeError>, <Future at 0x20f9619e710 state=finished raised TypeError>, <Future at 0x20f986d7730 state=finished raised TypeError>, <Future at 0x20f986d5750 state=finished raised TypeError>, <Future at 0x20f986d5f90 state=finished raised TypeError>, <Future at 0x20f986d6fe0 state=finished raised TypeError>, <Future at 0x20f986d77f0 state=finished raised TypeError>}, not_done=set())"
      ]
     },
     "execution_count": 28,
     "metadata": {},
     "output_type": "execute_result"
    }
   ],
   "source": [
    "# create executor with 16 threads\n",
    "executor = concurrent.futures.ThreadPoolExecutor(16)\n",
    "\n",
    "# perform operations for batches\n",
    "futures = [executor.submit(do_multiple_operations(group), group)\n",
    "           for group in grouper(movie_id_list, 2000)]\n",
    "concurrent.futures.wait(futures)\n"
   ]
  },
  {
   "cell_type": "code",
   "execution_count": 29,
   "metadata": {},
   "outputs": [],
   "source": [
    "api_success_list = api_success_list[:len(movie_id_list)]\n"
   ]
  },
  {
   "cell_type": "code",
   "execution_count": 30,
   "metadata": {},
   "outputs": [],
   "source": [
    "df_credits_api_download = pd.DataFrame(\n",
    "    {'movie_id': movie_id_list, 'api_success': api_success_list})\n"
   ]
  },
  {
   "cell_type": "code",
   "execution_count": 31,
   "metadata": {},
   "outputs": [],
   "source": [
    "df_credits_api_download.to_csv(\n",
    "    'data/TMD-api/credits-api-download-success.csv', index=False)\n"
   ]
  },
  {
   "cell_type": "code",
   "execution_count": 32,
   "metadata": {},
   "outputs": [],
   "source": [
    "# get list of all json files in credits folder\n",
    "path = 'data/TMD-api/credits'\n",
    "credits_json_files = os.listdir(path)\n"
   ]
  },
  {
   "cell_type": "code",
   "execution_count": 33,
   "metadata": {},
   "outputs": [
    {
     "data": {
      "text/plain": [
       "33618"
      ]
     },
     "execution_count": 33,
     "metadata": {},
     "output_type": "execute_result"
    }
   ],
   "source": [
    "len(credits_json_files)\n"
   ]
  },
  {
   "cell_type": "code",
   "execution_count": 34,
   "metadata": {},
   "outputs": [],
   "source": [
    "folder_name = 'data/TMD-api/credits'\n"
   ]
  },
  {
   "cell_type": "code",
   "execution_count": 35,
   "metadata": {},
   "outputs": [
    {
     "data": {
      "application/vnd.jupyter.widget-view+json": {
       "model_id": "b2aba92505cd43959e5425c3999d0aca",
       "version_major": 2,
       "version_minor": 0
      },
      "text/plain": [
       "  0%|          | 0/33618 [00:00<?, ?it/s]"
      ]
     },
     "metadata": {},
     "output_type": "display_data"
    }
   ],
   "source": [
    "df_credits = pd.DataFrame()\n",
    "\n",
    "for file in tqdm(credits_json_files):\n",
    "    file_path = generate_read_file_path(file, folder_name)\n",
    "    with open(file_path, 'r') as json_data:\n",
    "        data = json.load(json_data)\n",
    "        df_new = pd.json_normalize(data)\n",
    "        df_credits = pd.concat([df_credits, df_new])\n"
   ]
  },
  {
   "cell_type": "code",
   "execution_count": 36,
   "metadata": {},
   "outputs": [
    {
     "data": {
      "text/plain": [
       "33618"
      ]
     },
     "execution_count": 36,
     "metadata": {},
     "output_type": "execute_result"
    }
   ],
   "source": [
    "len(df_credits)\n"
   ]
  },
  {
   "cell_type": "code",
   "execution_count": 37,
   "metadata": {},
   "outputs": [
    {
     "data": {
      "text/html": [
       "<div>\n",
       "<style scoped>\n",
       "    .dataframe tbody tr th:only-of-type {\n",
       "        vertical-align: middle;\n",
       "    }\n",
       "\n",
       "    .dataframe tbody tr th {\n",
       "        vertical-align: top;\n",
       "    }\n",
       "\n",
       "    .dataframe thead th {\n",
       "        text-align: right;\n",
       "    }\n",
       "</style>\n",
       "<table border=\"1\" class=\"dataframe\">\n",
       "  <thead>\n",
       "    <tr style=\"text-align: right;\">\n",
       "      <th></th>\n",
       "      <th>id</th>\n",
       "      <th>cast</th>\n",
       "      <th>crew</th>\n",
       "    </tr>\n",
       "  </thead>\n",
       "  <tbody>\n",
       "    <tr>\n",
       "      <th>0</th>\n",
       "      <td>100</td>\n",
       "      <td>[{'adult': False, 'gender': 2, 'id': 973, 'kno...</td>\n",
       "      <td>[{'adult': False, 'gender': 2, 'id': 960, 'kno...</td>\n",
       "    </tr>\n",
       "    <tr>\n",
       "      <th>0</th>\n",
       "      <td>100017</td>\n",
       "      <td>[{'adult': False, 'gender': 2, 'id': 5202, 'kn...</td>\n",
       "      <td>[{'adult': False, 'gender': 1, 'id': 2338, 'kn...</td>\n",
       "    </tr>\n",
       "    <tr>\n",
       "      <th>0</th>\n",
       "      <td>100032</td>\n",
       "      <td>[{'adult': False, 'gender': 1, 'id': 87038, 'k...</td>\n",
       "      <td>[{'adult': False, 'gender': 2, 'id': 36116, 'k...</td>\n",
       "    </tr>\n",
       "    <tr>\n",
       "      <th>0</th>\n",
       "      <td>100034</td>\n",
       "      <td>[{'adult': False, 'gender': 0, 'id': 1022808, ...</td>\n",
       "      <td>[{'adult': False, 'gender': 2, 'id': 99005, 'k...</td>\n",
       "    </tr>\n",
       "    <tr>\n",
       "      <th>0</th>\n",
       "      <td>100038</td>\n",
       "      <td>[]</td>\n",
       "      <td>[]</td>\n",
       "    </tr>\n",
       "  </tbody>\n",
       "</table>\n",
       "</div>"
      ],
      "text/plain": [
       "       id                                               cast  \\\n",
       "0     100  [{'adult': False, 'gender': 2, 'id': 973, 'kno...   \n",
       "0  100017  [{'adult': False, 'gender': 2, 'id': 5202, 'kn...   \n",
       "0  100032  [{'adult': False, 'gender': 1, 'id': 87038, 'k...   \n",
       "0  100034  [{'adult': False, 'gender': 0, 'id': 1022808, ...   \n",
       "0  100038                                                 []   \n",
       "\n",
       "                                                crew  \n",
       "0  [{'adult': False, 'gender': 2, 'id': 960, 'kno...  \n",
       "0  [{'adult': False, 'gender': 1, 'id': 2338, 'kn...  \n",
       "0  [{'adult': False, 'gender': 2, 'id': 36116, 'k...  \n",
       "0  [{'adult': False, 'gender': 2, 'id': 99005, 'k...  \n",
       "0                                                 []  "
      ]
     },
     "execution_count": 37,
     "metadata": {},
     "output_type": "execute_result"
    }
   ],
   "source": [
    "df_credits.head()\n"
   ]
  },
  {
   "cell_type": "code",
   "execution_count": 38,
   "metadata": {},
   "outputs": [],
   "source": [
    "df_credits.to_csv('data/credits.csv', index=False)\n"
   ]
  },
  {
   "cell_type": "code",
   "execution_count": 39,
   "metadata": {},
   "outputs": [],
   "source": [
    "# function to generate the link to download keywords json file\n",
    "def generate_keywords_link(movie_id, api_key):\n",
    "    link = 'https://api.themoviedb.org/3/movie/{movie_id}/keywords?api_key={api_key}'.format(\n",
    "        movie_id=movie_id, api_key=secrets['api_key'])\n",
    "    return link\n"
   ]
  },
  {
   "cell_type": "code",
   "execution_count": 40,
   "metadata": {},
   "outputs": [],
   "source": [
    "folder_name = 'data/TMD-api/keywords'\n",
    "api_success_list = []\n"
   ]
  },
  {
   "cell_type": "code",
   "execution_count": 41,
   "metadata": {},
   "outputs": [
    {
     "data": {
      "text/plain": [
       "DoneAndNotDoneFutures(done={<Future at 0x20fa16b5810 state=finished raised TypeError>, <Future at 0x20f9619e830 state=finished raised TypeError>, <Future at 0x20fa16b58a0 state=finished raised TypeError>, <Future at 0x20fa16b58d0 state=finished raised TypeError>, <Future at 0x20fa16b60e0 state=finished raised TypeError>, <Future at 0x20fa16b59c0 state=finished raised TypeError>, <Future at 0x20fa16b49d0 state=finished raised TypeError>, <Future at 0x20fa16b59f0 state=finished raised TypeError>, <Future at 0x20fa16b5a20 state=finished raised TypeError>, <Future at 0x20fa16b5a80 state=finished raised TypeError>, <Future at 0x20fa16b5ab0 state=finished raised TypeError>, <Future at 0x20fa16b5b40 state=finished raised TypeError>, <Future at 0x20fa16b43a0 state=finished raised TypeError>, <Future at 0x20fa16b5bd0 state=finished raised TypeError>, <Future at 0x20fa16b43d0 state=finished raised TypeError>, <Future at 0x20fa16b5c00 state=finished raised TypeError>, <Future at 0x20fa16b4490 state=finished raised TypeError>, <Future at 0x20fa16b54b0 state=finished raised TypeError>, <Future at 0x20fa16b5cc0 state=finished raised TypeError>, <Future at 0x20fa16b5cf0 state=finished raised TypeError>, <Future at 0x20fa16b5d50 state=finished raised TypeError>, <Future at 0x20f986d4d90 state=finished raised TypeError>, <Future at 0x20fa16b5db0 state=finished raised TypeError>, <Future at 0x20fa16b5de0 state=finished raised TypeError>, <Future at 0x20fa16b5e10 state=finished raised TypeError>, <Future at 0x20fa16b5630 state=finished raised TypeError>, <Future at 0x20fa16b5690 state=finished raised TypeError>, <Future at 0x20fa16b56c0 state=finished raised TypeError>, <Future at 0x20fa16b4700 state=finished raised TypeError>, <Future at 0x20fa16b5720 state=finished raised TypeError>, <Future at 0x20f9682a7d0 state=finished raised TypeError>, <Future at 0x20fa16b57e0 state=finished raised TypeError>}, not_done=set())"
      ]
     },
     "execution_count": 41,
     "metadata": {},
     "output_type": "execute_result"
    }
   ],
   "source": [
    "# create executor with 16 threads\n",
    "executor = concurrent.futures.ThreadPoolExecutor(16)\n",
    "\n",
    "# perform operations for batches\n",
    "futures = [executor.submit(do_multiple_operations(group), group)\n",
    "           for group in grouper(movie_id_list, 2000)]\n",
    "concurrent.futures.wait(futures)\n"
   ]
  },
  {
   "cell_type": "code",
   "execution_count": 42,
   "metadata": {},
   "outputs": [],
   "source": [
    "api_success_list = api_success_list[:len(movie_id_list)]\n"
   ]
  },
  {
   "cell_type": "code",
   "execution_count": 43,
   "metadata": {},
   "outputs": [],
   "source": [
    "df_keywords_api_download = pd.DataFrame(\n",
    "    {'movie_id': movie_id_list, 'api_success': api_success_list})\n"
   ]
  },
  {
   "cell_type": "code",
   "execution_count": 44,
   "metadata": {},
   "outputs": [],
   "source": [
    "df_keywords_api_download.to_csv(\n",
    "    'data/TMD-api/keywords-api-download-success.csv', index=False)\n"
   ]
  },
  {
   "cell_type": "code",
   "execution_count": 45,
   "metadata": {},
   "outputs": [],
   "source": [
    "# get list of all json files in keywords folder\n",
    "path = 'data/TMD-api/keywords'\n",
    "keywords_json_files = os.listdir(path)\n"
   ]
  },
  {
   "cell_type": "code",
   "execution_count": 46,
   "metadata": {},
   "outputs": [
    {
     "data": {
      "text/plain": [
       "33618"
      ]
     },
     "execution_count": 46,
     "metadata": {},
     "output_type": "execute_result"
    }
   ],
   "source": [
    "len(keywords_json_files)\n"
   ]
  },
  {
   "cell_type": "code",
   "execution_count": 47,
   "metadata": {},
   "outputs": [],
   "source": [
    "folder_name = 'data/TMD-api/keywords'\n"
   ]
  },
  {
   "cell_type": "code",
   "execution_count": 48,
   "metadata": {},
   "outputs": [
    {
     "data": {
      "application/vnd.jupyter.widget-view+json": {
       "model_id": "81af1a37106946d195dcc2dccac71607",
       "version_major": 2,
       "version_minor": 0
      },
      "text/plain": [
       "  0%|          | 0/33618 [00:00<?, ?it/s]"
      ]
     },
     "metadata": {},
     "output_type": "display_data"
    }
   ],
   "source": [
    "df_keywords = pd.DataFrame()\n",
    "\n",
    "for file in tqdm(keywords_json_files):\n",
    "    file_path = generate_read_file_path(file, folder_name)\n",
    "    with open(file_path, 'r') as json_data:\n",
    "        data = json.load(json_data)\n",
    "        df_new = pd.json_normalize(data)\n",
    "        df_keywords = pd.concat([df_keywords, df_new])\n"
   ]
  },
  {
   "cell_type": "code",
   "execution_count": 49,
   "metadata": {},
   "outputs": [
    {
     "data": {
      "text/plain": [
       "33618"
      ]
     },
     "execution_count": 49,
     "metadata": {},
     "output_type": "execute_result"
    }
   ],
   "source": [
    "len(df_keywords)\n"
   ]
  },
  {
   "cell_type": "code",
   "execution_count": 50,
   "metadata": {},
   "outputs": [
    {
     "data": {
      "text/html": [
       "<div>\n",
       "<style scoped>\n",
       "    .dataframe tbody tr th:only-of-type {\n",
       "        vertical-align: middle;\n",
       "    }\n",
       "\n",
       "    .dataframe tbody tr th {\n",
       "        vertical-align: top;\n",
       "    }\n",
       "\n",
       "    .dataframe thead th {\n",
       "        text-align: right;\n",
       "    }\n",
       "</style>\n",
       "<table border=\"1\" class=\"dataframe\">\n",
       "  <thead>\n",
       "    <tr style=\"text-align: right;\">\n",
       "      <th></th>\n",
       "      <th>id</th>\n",
       "      <th>keywords</th>\n",
       "    </tr>\n",
       "  </thead>\n",
       "  <tbody>\n",
       "    <tr>\n",
       "      <th>0</th>\n",
       "      <td>100</td>\n",
       "      <td>[{'id': 502, 'name': 'ambush'}, {'id': 567, 'n...</td>\n",
       "    </tr>\n",
       "    <tr>\n",
       "      <th>0</th>\n",
       "      <td>100017</td>\n",
       "      <td>[{'id': 2843, 'name': 'fetishism'}, {'id': 326...</td>\n",
       "    </tr>\n",
       "    <tr>\n",
       "      <th>0</th>\n",
       "      <td>100032</td>\n",
       "      <td>[{'id': 2708, 'name': 'hitman'}, {'id': 3521, ...</td>\n",
       "    </tr>\n",
       "    <tr>\n",
       "      <th>0</th>\n",
       "      <td>100034</td>\n",
       "      <td>[]</td>\n",
       "    </tr>\n",
       "    <tr>\n",
       "      <th>0</th>\n",
       "      <td>100038</td>\n",
       "      <td>[]</td>\n",
       "    </tr>\n",
       "  </tbody>\n",
       "</table>\n",
       "</div>"
      ],
      "text/plain": [
       "       id                                           keywords\n",
       "0     100  [{'id': 502, 'name': 'ambush'}, {'id': 567, 'n...\n",
       "0  100017  [{'id': 2843, 'name': 'fetishism'}, {'id': 326...\n",
       "0  100032  [{'id': 2708, 'name': 'hitman'}, {'id': 3521, ...\n",
       "0  100034                                                 []\n",
       "0  100038                                                 []"
      ]
     },
     "execution_count": 50,
     "metadata": {},
     "output_type": "execute_result"
    }
   ],
   "source": [
    "df_keywords.head()\n"
   ]
  },
  {
   "cell_type": "code",
   "execution_count": 51,
   "metadata": {},
   "outputs": [],
   "source": [
    "df_keywords.to_csv('data/keywords.csv', index=False)\n"
   ]
  }
 ],
 "metadata": {
  "kernelspec": {
   "display_name": "movie-recommender",
   "language": "python",
   "name": "python3"
  },
  "language_info": {
   "codemirror_mode": {
    "name": "ipython",
    "version": 3
   },
   "file_extension": ".py",
   "mimetype": "text/x-python",
   "name": "python",
   "nbconvert_exporter": "python",
   "pygments_lexer": "ipython3",
   "version": "3.10.9"
  },
  "orig_nbformat": 4,
  "vscode": {
   "interpreter": {
    "hash": "ad7f4f5a0911d7d184414395415b680caa8b5101c4b473c7f00c07410d0c0504"
   }
  }
 },
 "nbformat": 4,
 "nbformat_minor": 2
}

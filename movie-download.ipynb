{
 "cells": [
  {
   "cell_type": "code",
   "execution_count": 1,
   "metadata": {},
   "outputs": [],
   "source": [
    "# imports\n",
    "import urllib\n",
    "from zipfile import ZipFile\n"
   ]
  },
  {
   "cell_type": "code",
   "execution_count": 7,
   "metadata": {},
   "outputs": [],
   "source": [
    "# function to download the data in csv format\n",
    "def download_data(link, folder):\n",
    "    zip_file_name = link.rsplit('/', 1)[-1]\n",
    "    zip_full_path = folder + '/' + zip_file_name\n",
    "    urllib.request.urlretrieve(link, filename=zip_full_path)\n",
    "\n",
    "    with ZipFile(zip_full_path, 'r') as z_object:\n",
    "        z_object.extractall(path=folder + '/')\n"
   ]
  },
  {
   "cell_type": "code",
   "execution_count": 8,
   "metadata": {},
   "outputs": [],
   "source": [
    "link = 'https://files.grouplens.org/datasets/movielens/ml-25m.zip'\n",
    "folder = 'data'\n",
    "download_data(link, folder)\n"
   ]
  }
 ],
 "metadata": {
  "kernelspec": {
   "display_name": "movie-recommender",
   "language": "python",
   "name": "python3"
  },
  "language_info": {
   "codemirror_mode": {
    "name": "ipython",
    "version": 3
   },
   "file_extension": ".py",
   "mimetype": "text/x-python",
   "name": "python",
   "nbconvert_exporter": "python",
   "pygments_lexer": "ipython3",
   "version": "3.10.9"
  },
  "orig_nbformat": 4,
  "vscode": {
   "interpreter": {
    "hash": "ad7f4f5a0911d7d184414395415b680caa8b5101c4b473c7f00c07410d0c0504"
   }
  }
 },
 "nbformat": 4,
 "nbformat_minor": 2
}
